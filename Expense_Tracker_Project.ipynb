{
  "nbformat": 4,
  "nbformat_minor": 0,
  "metadata": {
    "colab": {
      "provenance": [],
      "include_colab_link": true
    },
    "kernelspec": {
      "name": "python3",
      "display_name": "Python 3"
    },
    "language_info": {
      "name": "python"
    }
  },
  "cells": [
    {
      "cell_type": "markdown",
      "metadata": {
        "id": "view-in-github",
        "colab_type": "text"
      },
      "source": [
        "<a href=\"https://colab.research.google.com/github/Zkamal98/codealpha_tasks/blob/main/Expense_Tracker_Project.ipynb\" target=\"_parent\"><img src=\"https://colab.research.google.com/assets/colab-badge.svg\" alt=\"Open In Colab\"/></a>"
      ]
    },
    {
      "cell_type": "markdown",
      "source": [
        "**Project Features: **\n",
        "\n",
        " **1.User Profile Setup:**\n"
      ],
      "metadata": {
        "id": "hEZjWrhgN3gI"
      }
    },
    {
      "cell_type": "code",
      "source": [
        "#input code(Ask the user to input their name and profession. )\n",
        "name=input(\"Enter your name:\")\n",
        "profession=input(\"Enter your profession:\")\n",
        "\n",
        "#output code(Display a personalized welcome message. )\n",
        "print(\"Welcome,{}! Lets analyze your financial health as a {}.\".format(name,profession))"
      ],
      "metadata": {
        "colab": {
          "base_uri": "https://localhost:8080/"
        },
        "id": "8NJNnXeKOAVe",
        "outputId": "8cd5de9c-77de-4a3e-cdeb-e9c50bc771d0"
      },
      "execution_count": null,
      "outputs": [
        {
          "output_type": "stream",
          "name": "stdout",
          "text": [
            "Enter your name:Maliha\n",
            "Enter your profession:Software Engineer\n",
            "Welcome,Maliha! Lets analyze your financial health as a Software Engineer.\n"
          ]
        }
      ]
    },
    {
      "cell_type": "markdown",
      "source": [
        "**2. Income and Expense Management:**\n"
      ],
      "metadata": {
        "id": "fUSgzZynP-B6"
      }
    },
    {
      "cell_type": "markdown",
      "source": [
        "**3. Financial Health Check**"
      ],
      "metadata": {
        "id": "E2bXI6uya1Kr"
      }
    },
    {
      "cell_type": "code",
      "source": [
        "#input code\n",
        "#Ask the user for their monthly income and monthly expenses.\n",
        "monthly_income=int(input(\"Enter your monthly income:\"))\n",
        "expenses=int(input(\"Enter your monthly expenses:\"))\n",
        "\n",
        "#Calculate the savings (Income - Expenses).\n",
        "savings=monthly_income-expenses\n",
        "print(\"Total saving = {}\".format(savings))  #output code\n",
        "\n",
        "#Use arithmetic operators to calculate the percentage of income saved.\n",
        "#(income saved formula)Savings Rate = (Monthly Savings / Monthly Income) * 100\n",
        "\n",
        "monthly_saving=(savings / monthly_income)*100\n",
        "print(\"Saving percentage = {}%\".format(round(monthly_saving))) #output code\n",
        "\n",
        "#Use nested if-else conditions to provide insights based on the savings percentage:\n",
        "\n",
        "#If savings are greater than or equal to 20% of income:\n",
        "#Print: \"Great job, [Name]! You have a strong savings habit.\"\n",
        "if monthly_saving > 0:\n",
        "  if monthly_saving >=20:\n",
        "    print(\"Great job, {}! You have a strong savings habit.\".format(name))\n",
        "\n",
        "#If savings are between 10% and 20%:\n",
        "#Print: \"Good, [Name], but you could save a bit more.\"\n",
        "  elif 10 <= monthly_saving < 20:\n",
        "    print(\"Good, {}! but you could save a bit more.\".format(name))\n",
        "\n",
        "#If savings are less than 10%:\n",
        "  else:\n",
        "    print(\"Warning, {} : Your savings are too low. Consider cutting expenses!\".format(name))\n",
        "#Print: \"Warning, [Name]: Your savings are too low.\n",
        "#Consider cutting expenses!\n"
      ],
      "metadata": {
        "colab": {
          "base_uri": "https://localhost:8080/"
        },
        "id": "rnu0JWIBPmRE",
        "outputId": "0358544b-c6f9-4646-e015-169cd0fd39a9"
      },
      "execution_count": null,
      "outputs": [
        {
          "output_type": "stream",
          "name": "stdout",
          "text": [
            "Enter your monthly income:80000\n",
            "Enter your monthly expenses:60000\n",
            "Total saving = 20000\n",
            "Saving percentage = 25%\n",
            "Great job, Maliha! You have a strong savings habit.\n"
          ]
        }
      ]
    },
    {
      "cell_type": "markdown",
      "source": [
        "**4. Categorize Expenses:**"
      ],
      "metadata": {
        "id": "jpjYlFY3nOcv"
      }
    },
    {
      "cell_type": "code",
      "source": [
        "#Ask the user to categorize their expenses into three major areas\n",
        "#Use string operations to display a summary of these categories\n",
        "\n",
        "essentials=int(input(\"How much do you spend on Essentials?\"))\n",
        "wants=int(input(\"How much do you spend on Wants?\"))\n",
        "invest=int(input(\"How much do you save or invest?\"))\n",
        "monthly_essentials=(essentials/monthly_income)*100\n",
        "monthly_wants=(wants/monthly_income)*100\n",
        "monthly_invest=(invest/monthly_income)*100\n",
        "print(\"Expense Breakdown:\")\n",
        "print(\"Essentials:{}%\".format(monthly_essentials))\n",
        "print(\"Wants:{}%\".format(monthly_wants))\n",
        "print(\"Savings/Investments:{}%\".format(monthly_invest))"
      ],
      "metadata": {
        "colab": {
          "base_uri": "https://localhost:8080/"
        },
        "id": "LMU8KeFRbSTH",
        "outputId": "2423beb9-2e96-41e8-8dc2-aeadd6a28066"
      },
      "execution_count": null,
      "outputs": [
        {
          "output_type": "stream",
          "name": "stdout",
          "text": [
            "How much do you spend on Essentials?40000\n",
            "How much do you spend on Wants?15000\n",
            "How much do you save or invest?25000\n",
            "Expense Breakdown:\n",
            "Essentials:50.0%\n",
            "Wants:18.75%\n",
            "Savings/Investments:31.25%\n"
          ]
        }
      ]
    },
    {
      "cell_type": "markdown",
      "source": [
        "**5.Custom Goals:**"
      ],
      "metadata": {
        "id": "Ib7p-j4xbUjR"
      }
    },
    {
      "cell_type": "code",
      "source": [
        "#Allow the user to input a savings goal (in percentage).\n",
        "\n",
        "saving_goals=int(input(\"Enter your saving goals(in %):\"))\n",
        "goal=saving_goals-monthly_saving\n",
        "print(\"Your savings percentage is  {}%\".format(monthly_saving))\n",
        "\n",
        "#Use conditional logic to evaluate if they are meeting their goal\n",
        "#If the current savings percentage is greater than or equal to the goal: ■ Print: \"Congratulations, [Name]! You’ve achieved your savings goal.\"\n",
        "\n",
        "if monthly_saving >= saving_goals:\n",
        "  print(\"Congratulations, {}! You’ve achieved your savings goal.\".format(name))\n",
        "\n",
        "#Else: ■ Print: \"Keep working on your savings, [Name]. You're [X]% away from your goal.\"\n",
        "\n",
        "else:\n",
        "  print(\"Keep working on your savings, {}. You're {}% away from your goal.\".format(name,round(goal)))\n"
      ],
      "metadata": {
        "id": "t8PQO9Krgf5f",
        "colab": {
          "base_uri": "https://localhost:8080/"
        },
        "outputId": "a516f0dd-3695-4aae-fdac-0b4bf2d8cd9d"
      },
      "execution_count": null,
      "outputs": [
        {
          "output_type": "stream",
          "name": "stdout",
          "text": [
            "Enter your saving goals(in %):30\n",
            "Your savings percentage is  25.0%\n",
            "Keep working on your savings, Maliha. You're 5% away from your goal.\n"
          ]
        }
      ]
    },
    {
      "cell_type": "markdown",
      "source": [
        "**6.Export Summary (Bonus Feature):**"
      ],
      "metadata": {
        "id": "6FImozsMgPW7"
      }
    },
    {
      "cell_type": "code",
      "source": [
        "#Generate a summary of the user’s financial health in a formatted string or save it to a text file.\n",
        "\n",
        "\n",
        "print(\"Financial health Summary of {}\".format(name))\n",
        "print(\"Income:{}\".format(monthly_income))\n",
        "print(\"Expense:{}\".format(expenses))\n",
        "print(\"Savings:{} ({}%)\".format(savings,(savings/monthly_income)*100))\n",
        "\n",
        "print(\"Expense Breakdown:\")\n",
        "print(\"Essentials:{}%\".format(monthly_essentials))\n",
        "print(\"Wants:{}%\".format(monthly_wants))\n",
        "print(\"Savings/Investments:{}%\".format(monthly_invest))\n",
        "print(\"Saving goals:{}%\".format(saving_goals))\n",
        "print(\"Status: {}% away from your goal.\".format(goal))"
      ],
      "metadata": {
        "colab": {
          "base_uri": "https://localhost:8080/"
        },
        "id": "uMhe0q0AgUfz",
        "outputId": "063a8341-e9b2-4a13-d61e-1b3fd1a4c5c9"
      },
      "execution_count": null,
      "outputs": [
        {
          "output_type": "stream",
          "name": "stdout",
          "text": [
            "Financial health Summary of Maliha\n",
            "Income:80000\n",
            "Expense:60000\n",
            "Savings:20000 (25.0%)\n",
            "Expense Breakdown:\n",
            "Essentials:50.0%\n",
            "Wants:18.75%\n",
            "Savings/Investments:31.25%\n",
            "Saving goals:30%\n",
            "Status: 5.0% away from your goal.\n"
          ]
        }
      ]
    }
  ]
}